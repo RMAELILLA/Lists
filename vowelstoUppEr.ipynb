{
 "cells": [
  {
   "cell_type": "markdown",
   "metadata": {},
   "source": [
    "# DATA STRUCTURE AND ALGORITHMS\n",
    "## Laboratory Exercise "
   ]
  },
  {
   "cell_type": "markdown",
   "metadata": {},
   "source": [
    "## Lab exercise 1\n",
    "### Provide an implementation for a function called vowelsToUpper with the following signature:\n",
    "\n",
    "method name : vowelsToUpper\n",
    "input argument : String \n",
    "return argument : String\n",
    "\n",
    "vowelsToUpper must return a version of its String argument with all its vowels changed to their uppercase forms. Nonvowel characters stay as is.\n",
    "\n",
    "### Sample Calls\n",
    "\n",
    "vowelsToUpper \"\" == \"\"\n",
    "vowelsToUpper \"Hello, world!\" == \"HEllO, wOrld!\"\n",
    "vowelsToUpper \"hello hi bye\" == \"hEllO hI byE\"\n",
    "\n"
   ]
  },
  {
   "cell_type": "code",
   "execution_count": null,
   "metadata": {},
   "outputs": [],
   "source": [
    "def vOwElUpper(input_string):\n",
    "    vowels = \"aeiouAEIOU\"\n",
    "    result = \"\"\n",
    "\n",
    "    for char in input_string:\n",
    "        if char in vowels:\n",
    "            result += char.upper()\n",
    "        else:\n",
    "            result += char\n",
    "    \n",
    "    return result\n",
    "\n",
    "try:\n",
    "    user_input = input(\"Input string: \")\n",
    "\n",
    "    if not user_input:\n",
    "        raise ValueError(\"Input string cannot be empty\")\n",
    "\n",
    "    UppErvOwEl = vOwElUpper(user_input)\n",
    "    print(\"Original string: \", user_input)\n",
    "    print(\"Converted vowels to uppercase: \", UppErvOwEl)\n",
    "\n",
    "except ValueError as ve:\n",
    "    print(\"input a character only.\", ve)\n",
    "except Exception as e:\n",
    "    print(\"Error.\", e)"
   ]
  },
  {
   "cell_type": "markdown",
   "metadata": {},
   "source": []
  },
  {
   "cell_type": "markdown",
   "metadata": {},
   "source": [
    "## Lab exercise 2\n",
    "\n",
    "from a given list of integers, create a new list that will compute the square of odd integer elements.\n",
    "\n",
    "sample calls\n",
    "\n",
    "[2,4,3] == [9]\n",
    "[0,0,1,1] == [1,1]\n"
   ]
  },
  {
   "cell_type": "code",
   "execution_count": null,
   "metadata": {},
   "outputs": [],
   "source": [
    "def square_of_odds(input_list):\n",
    "    result = [num ** 2 for num in input_list if num % 2 != 0]\n",
    "    return result\n",
    "\n",
    "while True:\n",
    "    try:\n",
    "        user_input = input(\"Enter a list of integers separated by spaces: \")\n",
    "        input_list = [int(num) for num in user_input.split()]\n",
    "        \n",
    "        squared_odd_elements = square_of_odds(input_list)\n",
    "        print(\"Original list:\", input_list)\n",
    "        print(\"Squares of odd elements:\", squared_odd_elements)\n",
    "        \n",
    "        math_operator_2 = input(\"Do you want to calculate again? y/n: \")\n",
    "        if math_operator_2 == \"y\":\n",
    "            continue\n",
    "        elif math_operator_2 == \"n\":\n",
    "            print(\"Thank you for using this program. Have a good day!\")\n",
    "            break\n",
    "        else:\n",
    "            print(\"Please choose 'y' only if yes or 'n' only if no\")\n",
    "            break\n",
    "    except ValueError:\n",
    "        print(\"Invalid input. Please enter a list of integers separated by spaces.\")\n",
    "    except Exception as e:\n",
    "        print(\"An error occurred:\", e)"
   ]
  },
  {
   "cell_type": "markdown",
   "metadata": {},
   "source": [
    "## Lab exercise 3\n",
    "\n",
    "Create a new list of tuples from two given lists:\n",
    "\n",
    "### sample calls\n",
    "\n",
    "list1[1,2,3]\n",
    "list2[\"mark\",\"alice\",\"john]\n",
    "\n",
    "result: listOfTuple[(1,\"mark\"),(2,\"alice\"),(3,\"john\")] "
   ]
  },
  {
   "cell_type": "code",
   "execution_count": null,
   "metadata": {},
   "outputs": [],
   "source": [
    "def createListOfTuples(list1, list2):\n",
    "    if len(list1) != len(list2):\n",
    "        raise ValueError(\"Input lists must have the same length\")\n",
    "\n",
    "    listOfTuples = list(zip(list1, list2))\n",
    "    \n",
    "    return listOfTuples\n",
    "\n",
    "try:\n",
    "    list1_input = input(\"Enter the first list of integers separated by spaces: \")\n",
    "    list1 = [int(x) for x in list1_input.split()]\n",
    "\n",
    "    list2_input = input(\"Enter the second list of strings separated by spaces: \")\n",
    "    list2 = list2_input.split()\n",
    "\n",
    "    if len(list1) != len(list2):\n",
    "        raise ValueError(\"Input must have the same value of lists\")\n",
    "\n",
    "    listOfTuples = createListOfTuples(list1, list2)\n",
    "\n",
    "    print(\"Resulting list of tuples:\", listOfTuples)\n",
    "except ValueError as ve:\n",
    "    print(\"Error:\", ve)\n",
    "except Exception as e:\n",
    "    print(\"An error occurred:\", e)"
   ]
  }
 ],
 "metadata": {
  "kernelspec": {
   "display_name": "Python 3 (ipykernel)",
   "language": "python",
   "name": "python3"
  },
  "language_info": {
   "codemirror_mode": {
    "name": "ipython",
    "version": 3
   },
   "file_extension": ".py",
   "mimetype": "text/x-python",
   "name": "python",
   "nbconvert_exporter": "python",
   "pygments_lexer": "ipython3",
   "version": "3.11.2"
  }
 },
 "nbformat": 4,
 "nbformat_minor": 4
}
